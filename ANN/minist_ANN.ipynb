{
 "cells": [
  {
   "cell_type": "code",
   "execution_count": 199,
   "metadata": {},
   "outputs": [],
   "source": [
    "import tensorflow as tf\n",
    "import numpy as np\n",
    "import matplotlib.pyplot as plt"
   ]
  },
  {
   "cell_type": "code",
   "execution_count": 200,
   "metadata": {},
   "outputs": [],
   "source": [
    "'''\n",
    "    import the dataset\n",
    "'''\n",
    "from tensorflow.keras import datasets as ds\n",
    "\n",
    "(x, y), (x_, y_) = ds.fashion_mnist.load_data()\n",
    "assert x.shape == (60000, 28, 28)\n",
    "assert y.shape == (60000,)\n",
    "assert x_.shape == (10000, 28, 28)\n",
    "assert y_.shape == (10000,)\n"
   ]
  },
  {
   "cell_type": "code",
   "execution_count": 201,
   "metadata": {},
   "outputs": [],
   "source": [
    "'''\n",
    "    split the dataset\n",
    "\n",
    "    parameters:\n",
    "        total: the total number of photo in train datesets\n",
    "        H: the length of the photo size\n",
    "        W: the width of the photo size\n",
    "'''\n",
    "total, L, W = x.shape[0:3]\n",
    "assert total == 60000\n",
    "assert L == 28\n",
    "assert W == 28\n",
    "assert type(total) == int\n",
    "\n",
    "# the proportion of the validation set is 20%\n",
    "valid_split = 0.2\n",
    "\n",
    "train_num = int(total*(1 - valid_split))\n",
    "assert train_num == 48000\n",
    "\n",
    "train_x = x[ :train_num]\n",
    "train_y = y[ :train_num]\n",
    "assert train_x.shape == (48000,28,28)\n",
    "assert type(train_x.shape) == tuple\n",
    "\n",
    "valid_x = x[train_num: ]\n",
    "valid_y = y[train_num: ]\n",
    "\n",
    "test_x = x_\n",
    "test_y = y_"
   ]
  },
  {
   "cell_type": "code",
   "execution_count": 202,
   "metadata": {},
   "outputs": [
    {
     "name": "stdout",
     "output_type": "stream",
     "text": [
      "(28, 28)\n"
     ]
    },
    {
     "data": {
      "text/plain": [
       "<function matplotlib.pyplot.show(close=None, block=None)>"
      ]
     },
     "execution_count": 202,
     "metadata": {},
     "output_type": "execute_result"
    },
    {
     "data": {
      "image/png": "[encoded data removed]",
      "text/plain": [
       "<Figure size 640x480 with 1 Axes>"
      ]
     },
     "metadata": {},
     "output_type": "display_data"
    }
   ],
   "source": [
    "'''\n",
    "    show the photo\n",
    "'''\n",
    "x1 = train_x[1,:]\n",
    "print(x1.shape)\n",
    "x1 = x1.reshape(28,28)\n",
    "\n",
    "plt.figure()\n",
    "plt.imshow(x1)\n",
    "plt.show"
   ]
  },
  {
   "cell_type": "code",
   "execution_count": 203,
   "metadata": {},
   "outputs": [],
   "source": [
    "'''\n",
    "    reshape the date\n",
    "'''\n",
    "train_x = train_x.reshape(-1, L*W)\n",
    "valid_x = valid_x.reshape(-1, L*W)\n",
    "test_x = test_x.reshape(-1, L*W)\n",
    "\n",
    "assert len(train_x[:]) == 48000\n",
    "assert len(train_x[0]) == 784\n",
    "assert train_x.shape == (48000, 784)\n"
   ]
  },
  {
   "cell_type": "code",
   "execution_count": 204,
   "metadata": {},
   "outputs": [],
   "source": [
    "'''\n",
    "    normalize the data\n",
    "'''\n",
    "train_x = tf.cast(train_x/255.0, tf.float32)\n",
    "valid_x = tf.cast(valid_x/255.0, tf.float32)\n",
    "test_x = tf.cast(test_x/255.0, tf.float32)"
   ]
  },
  {
   "cell_type": "code",
   "execution_count": 205,
   "metadata": {},
   "outputs": [],
   "source": [
    "'''\n",
    "    one-hot encoding\n",
    "'''\n",
    "class_num = len(np.unique(y))\n",
    "\n",
    "train_y = tf.one_hot(train_y, class_num)\n",
    "valid_y = tf.one_hot(valid_y, class_num)\n",
    "test_y = tf.one_hot(test_y, class_num)"
   ]
  },
  {
   "cell_type": "code",
   "execution_count": 206,
   "metadata": {},
   "outputs": [],
   "source": [
    "'''\n",
    "    construct neural network model\n",
    "'''\n",
    "def model(x, w, b):\n",
    "    pred = tf.matmul(x, w) + b\n",
    "    return tf.nn.softmax(pred)"
   ]
  },
  {
   "cell_type": "code",
   "execution_count": 207,
   "metadata": {},
   "outputs": [],
   "source": [
    "'''\n",
    "    define loss function\n",
    "'''\n",
    "def loss(x, y, w, b):\n",
    "    pred = model(x, w, b)\n",
    "    loss_ = tf.keras.losses.categorical_crossentropy(y_true=y, y_pred=pred)\n",
    "    return tf.reduce_mean(loss_)"
   ]
  },
  {
   "cell_type": "code",
   "execution_count": 208,
   "metadata": {},
   "outputs": [],
   "source": [
    "'''\n",
    "    compute the gradient\n",
    "'''\n",
    "def grad(x, y, w, b):\n",
    "    with tf.GradientTape() as tape:\n",
    "        loss_ = loss(x, y, w, b)\n",
    "    return tape.gradient(loss_, [w,b])"
   ]
  },
  {
   "cell_type": "code",
   "execution_count": 209,
   "metadata": {},
   "outputs": [],
   "source": [
    "def accuracy(x, y, w, b):\n",
    "    pred = model(x, w, b)\n",
    "    corrections = tf.equal(tf.argmax(pred, axis=-1), tf.argmax(y, axis=-1))\n",
    "    return tf.reduce_mean(tf.cast(corrections, tf.float32))"
   ]
  },
  {
   "cell_type": "code",
   "execution_count": 210,
   "metadata": {},
   "outputs": [],
   "source": [
    "# define hyperparameters\n",
    "epochs = 30\n",
    "batch_size = 100\n",
    "lr = 0.00175"
   ]
  },
  {
   "cell_type": "code",
   "execution_count": 211,
   "metadata": {},
   "outputs": [],
   "source": [
    "# define optimizer\n",
    "optimizer = tf.keras.optimizers.Adam(learning_rate=lr)"
   ]
  },
  {
   "cell_type": "code",
   "execution_count": 212,
   "metadata": {},
   "outputs": [],
   "source": [
    "# get the steps in each epoch\n",
    "steps = train_num // batch_size"
   ]
  },
  {
   "cell_type": "code",
   "execution_count": 213,
   "metadata": {},
   "outputs": [],
   "source": [
    "train_losses = []\n",
    "valid_losses = []\n",
    "train_accuracys = []\n",
    "valid_accuracys = []"
   ]
  },
  {
   "cell_type": "code",
   "execution_count": 214,
   "metadata": {},
   "outputs": [],
   "source": [
    "W = tf.Variable(tf.random.normal([L*W, class_num], mean=0.0, stddev=1.0, dtype=tf.float32))\n",
    "B = tf.Variable(tf.zeros([class_num], dtype=tf.float32))"
   ]
  },
  {
   "cell_type": "code",
   "execution_count": 215,
   "metadata": {},
   "outputs": [
    {
     "name": "stdout",
     "output_type": "stream",
     "text": [
      "(784, 10)\n",
      "(10,)\n"
     ]
    }
   ],
   "source": [
    "print(W.shape)\n",
    "print(B.shape)"
   ]
  },
  {
   "cell_type": "code",
   "execution_count": 216,
   "metadata": {},
   "outputs": [
    {
     "name": "stdout",
     "output_type": "stream",
     "text": [
      "<tf.Variable 'Variable:0' shape=(784, 10) dtype=float32, numpy=\n",
      "array([[ 2.129607  ,  1.2244457 , -0.3741863 , ..., -0.8335819 ,\n",
      "         1.4544135 ,  3.0027971 ],\n",
      "       [ 1.3475364 ,  0.30354634, -0.63355976, ..., -0.16764912,\n",
      "        -0.19912475,  2.7746017 ],\n",
      "       [ 1.3446696 , -0.70539093, -0.3138866 , ...,  1.029569  ,\n",
      "        -0.6293746 ,  0.14554453],\n",
      "       ...,\n",
      "       [ 0.46949315,  0.7490494 ,  0.8864503 , ..., -0.0538325 ,\n",
      "         1.2986517 ,  1.0874084 ],\n",
      "       [-0.2685384 ,  2.0316432 ,  0.84527296, ..., -0.87566686,\n",
      "         1.0150014 ,  0.32194415],\n",
      "       [ 0.08361822, -1.6871316 , -1.2662356 , ..., -0.0153454 ,\n",
      "         0.10609037, -0.9884619 ]], dtype=float32)>\n",
      "<tf.Variable 'Variable:0' shape=(10,) dtype=float32, numpy=array([0., 0., 0., 0., 0., 0., 0., 0., 0., 0.], dtype=float32)>\n"
     ]
    }
   ],
   "source": [
    "print(W)\n",
    "print(B)"
   ]
  },
  {
   "cell_type": "code",
   "execution_count": 217,
   "metadata": {},
   "outputs": [
    {
     "name": "stdout",
     "output_type": "stream",
     "text": [
      "epoch=  1, train_loss=1.732888, train_acc=0.657021, valid_loss=1.691906, valid_acc=0.658750\n",
      "epoch=  2, train_loss=1.294838, train_acc=0.721917, valid_loss=1.273273, valid_acc=0.721250\n",
      "epoch=  3, train_loss=1.085018, train_acc=0.751917, valid_loss=1.082851, valid_acc=0.751333\n",
      "epoch=  4, train_loss=0.960613, train_acc=0.769562, valid_loss=0.970820, valid_acc=0.768833\n",
      "epoch=  5, train_loss=0.874434, train_acc=0.784292, valid_loss=0.894230, valid_acc=0.781833\n",
      "epoch=  6, train_loss=0.811893, train_acc=0.793917, valid_loss=0.840364, valid_acc=0.790500\n",
      "epoch=  7, train_loss=0.763957, train_acc=0.801458, valid_loss=0.799438, valid_acc=0.797250\n",
      "epoch=  8, train_loss=0.726179, train_acc=0.806875, valid_loss=0.767773, valid_acc=0.802083\n",
      "epoch=  9, train_loss=0.695353, train_acc=0.812333, valid_loss=0.741157, valid_acc=0.804833\n",
      "epoch= 10, train_loss=0.669243, train_acc=0.816479, valid_loss=0.718905, valid_acc=0.808250\n",
      "epoch= 11, train_loss=0.646851, train_acc=0.820229, valid_loss=0.699771, valid_acc=0.811083\n",
      "epoch= 12, train_loss=0.627282, train_acc=0.823708, valid_loss=0.683060, valid_acc=0.814500\n",
      "epoch= 13, train_loss=0.609782, train_acc=0.826542, valid_loss=0.668132, valid_acc=0.817667\n",
      "epoch= 14, train_loss=0.593925, train_acc=0.828458, valid_loss=0.654782, valid_acc=0.819167\n",
      "epoch= 15, train_loss=0.579654, train_acc=0.830917, valid_loss=0.642771, valid_acc=0.821167\n",
      "epoch= 16, train_loss=0.566684, train_acc=0.833396, valid_loss=0.631896, valid_acc=0.822583\n",
      "epoch= 17, train_loss=0.555296, train_acc=0.835250, valid_loss=0.622285, valid_acc=0.824750\n",
      "epoch= 18, train_loss=0.544525, train_acc=0.837042, valid_loss=0.613482, valid_acc=0.826000\n",
      "epoch= 19, train_loss=0.534567, train_acc=0.839083, valid_loss=0.605296, valid_acc=0.827167\n",
      "epoch= 20, train_loss=0.525466, train_acc=0.840167, valid_loss=0.597853, valid_acc=0.828083\n",
      "epoch= 21, train_loss=0.517034, train_acc=0.841521, valid_loss=0.590959, valid_acc=0.830000\n",
      "epoch= 22, train_loss=0.509257, train_acc=0.843271, valid_loss=0.584620, valid_acc=0.831000\n",
      "epoch= 23, train_loss=0.502059, train_acc=0.844542, valid_loss=0.578792, valid_acc=0.831250\n",
      "epoch= 24, train_loss=0.495329, train_acc=0.845854, valid_loss=0.573372, valid_acc=0.832000\n",
      "epoch= 25, train_loss=0.489084, train_acc=0.847000, valid_loss=0.568375, valid_acc=0.832833\n",
      "epoch= 26, train_loss=0.483255, train_acc=0.848521, valid_loss=0.563728, valid_acc=0.834000\n",
      "epoch= 27, train_loss=0.477789, train_acc=0.849417, valid_loss=0.559397, valid_acc=0.834917\n",
      "epoch= 28, train_loss=0.472589, train_acc=0.850312, valid_loss=0.555571, valid_acc=0.835083\n",
      "epoch= 29, train_loss=0.467741, train_acc=0.851146, valid_loss=0.551805, valid_acc=0.836500\n",
      "epoch= 30, train_loss=0.463154, train_acc=0.852083, valid_loss=0.548217, valid_acc=0.836417\n",
      "test accuracy:0.841500\n"
     ]
    }
   ],
   "source": [
    "'''\n",
    "    training process\n",
    "'''\n",
    "for epoch in range(epochs):\n",
    "    for step in range(steps):\n",
    "        xs = train_x[step*batch_size: (step+1)*batch_size]\n",
    "        ys = train_y[step*batch_size: (step+1)*batch_size]\n",
    "\n",
    "        grads = grad(xs, ys, W, B)\n",
    "        optimizer.apply_gradients(zip(grads, [W, B]))\n",
    "\n",
    "    train_loss = loss(train_x, train_y, W, B).numpy()\n",
    "    valid_loss = loss(valid_x, valid_y, W, B).numpy()\n",
    "    train_accuracy = accuracy(train_x, train_y, W, B).numpy()\n",
    "    valid_accuracy = accuracy(valid_x, valid_y, W, B).numpy()\n",
    "\n",
    "    train_losses.append(train_loss)\n",
    "    valid_losses.append(valid_loss)\n",
    "    train_accuracys.append(train_accuracy)\n",
    "    valid_accuracys.append(valid_accuracy)\n",
    "\n",
    "    print('epoch={:3d}, train_loss={:4f}, train_acc={:4f}, valid_loss={:4f}, valid_acc={:4f}'.format(epoch+1, train_loss, train_accuracy, valid_loss, valid_accuracy))\n",
    "\n",
    "test_accuracy = accuracy(test_x, test_y, W, B).numpy()\n",
    "print('test accuracy:{:4f}'.format(test_accuracy) )\n"
   ]
  },
  {
   "cell_type": "code",
   "execution_count": 218,
   "metadata": {},
   "outputs": [
    {
     "data": {
      "image/png": "[encoded data removed]",
      "text/plain": [
       "<Figure size 640x480 with 2 Axes>"
      ]
     },
     "metadata": {},
     "output_type": "display_data"
    }
   ],
   "source": [
    "plt.subplot(1,2,1)\n",
    "plt.xlabel('epochs')\n",
    "plt.ylabel('loss')\n",
    "plt.plot(train_losses, 'blue', label='train loss')\n",
    "plt.plot(valid_losses, 'red', label='valid loss')\n",
    "plt.legend(loc=1)\n",
    "\n",
    "plt.subplot(1,2,2)\n",
    "plt.xlabel('epochs')\n",
    "plt.ylabel('accuracy')\n",
    "plt.plot(train_accuracys, 'blue', label='train accuracy')\n",
    "plt.plot(valid_accuracys, 'red', label='valid accuracy')\n",
    "plt.legend(loc=1)\n",
    "\n",
    "plt.show()"
   ]
  },
  {
   "cell_type": "code",
   "execution_count": null,
   "metadata": {},
   "outputs": [],
   "source": []
  }
 ],
 "metadata": {
  "kernelspec": {
   "display_name": "Python 3.7.13 ('TF2.1')",
   "language": "python",
   "name": "python3"
  },
  "language_info": {
   "codemirror_mode": {
    "name": "ipython",
    "version": 3
   },
   "file_extension": ".py",
   "mimetype": "text/x-python",
   "name": "python",
   "nbconvert_exporter": "python",
   "pygments_lexer": "ipython3",
   "version": "3.7.13"
  },
  "orig_nbformat": 4,
  "vscode": {
   "interpreter": {
    "hash": "c1925a549077624469f5fdf01b8570dc3ce59d4e0c73f8a8cba97d8146906dff"
   }
  }
 },
 "nbformat": 4,
 "nbformat_minor": 2
}
