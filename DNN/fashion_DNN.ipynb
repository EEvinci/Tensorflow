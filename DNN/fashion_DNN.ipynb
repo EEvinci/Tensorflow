{
 "cells": [
  {
   "cell_type": "code",
   "execution_count": 2,
   "metadata": {},
   "outputs": [],
   "source": [
    "import tensorflow as tf\n",
    "import numpy as np\n",
    "import matplotlib.pyplot as plt"
   ]
  },
  {
   "cell_type": "code",
   "execution_count": 3,
   "metadata": {},
   "outputs": [],
   "source": [
    "# load datas\n",
    "mnist = tf.keras.datasets.fashion_mnist\n",
    "(train_images, train_labels), (test_images, test_labels) = mnist.load_data()"
   ]
  },
  {
   "cell_type": "code",
   "execution_count": 4,
   "metadata": {},
   "outputs": [
    {
     "name": "stdout",
     "output_type": "stream",
     "text": [
      "<class 'numpy.ndarray'>\n",
      "<class 'numpy.ndarray'>\n",
      "(60000,)\n",
      "(10000,)\n"
     ]
    }
   ],
   "source": [
    "# Data normolization\n",
    "train_images = train_images / 255.0\n",
    "test_images = test_images / 255.0\n",
    "print(type(train_labels))\n",
    "print(type(test_labels))\n",
    "print(train_labels.shape)\n",
    "print(test_labels.shape)"
   ]
  },
  {
   "cell_type": "code",
   "execution_count": 5,
   "metadata": {},
   "outputs": [],
   "source": [
    "# Sequential model\n",
    "model = tf.keras.models.Sequential([\n",
    "    tf.keras.layers.Flatten(input_shape = (28,28)),\n",
    "    tf.keras.layers.Dense(128, activation='relu'),\n",
    "    tf.keras.layers.Dense(64, activation='relu'),\n",
    "    tf.keras.layers.Dense(10,activation='softmax')\n",
    "])"
   ]
  },
  {
   "cell_type": "code",
   "execution_count": 6,
   "metadata": {},
   "outputs": [],
   "source": [
    "# complie medel\n",
    "loss = tf.keras.losses.sparse_categorical_crossentropy\n",
    "metrics = tf.keras.metrics.sparse_categorical_accuracy\n",
    "\n",
    "model.compile(optimizer='adam', loss=loss, metrics=[metrics])"
   ]
  },
  {
   "cell_type": "code",
   "execution_count": 7,
   "metadata": {},
   "outputs": [],
   "source": [
    "# define argument\n",
    "train_epochs = 10\n",
    "batch_size = 32"
   ]
  },
  {
   "cell_type": "code",
   "execution_count": 8,
   "metadata": {},
   "outputs": [
    {
     "name": "stdout",
     "output_type": "stream",
     "text": [
      "Train on 48000 samples, validate on 12000 samples\n",
      "Epoch 1/10\n",
      "48000/48000 - 182s - loss: 0.5152 - sparse_categorical_accuracy: 0.8198 - val_loss: 0.4111 - val_sparse_categorical_accuracy: 0.8563\n",
      "Epoch 2/10\n",
      "48000/48000 - 6s - loss: 0.3799 - sparse_categorical_accuracy: 0.8613 - val_loss: 0.3865 - val_sparse_categorical_accuracy: 0.8626\n",
      "Epoch 3/10\n",
      "48000/48000 - 6s - loss: 0.3421 - sparse_categorical_accuracy: 0.8736 - val_loss: 0.3527 - val_sparse_categorical_accuracy: 0.8684\n",
      "Epoch 4/10\n",
      "48000/48000 - 6s - loss: 0.3146 - sparse_categorical_accuracy: 0.8837 - val_loss: 0.3335 - val_sparse_categorical_accuracy: 0.8773\n",
      "Epoch 5/10\n",
      "48000/48000 - 5s - loss: 0.2979 - sparse_categorical_accuracy: 0.8889 - val_loss: 0.3414 - val_sparse_categorical_accuracy: 0.8778\n",
      "Epoch 6/10\n",
      "48000/48000 - 5s - loss: 0.2831 - sparse_categorical_accuracy: 0.8945 - val_loss: 0.3523 - val_sparse_categorical_accuracy: 0.8746\n",
      "Epoch 7/10\n",
      "48000/48000 - 5s - loss: 0.2691 - sparse_categorical_accuracy: 0.8998 - val_loss: 0.3380 - val_sparse_categorical_accuracy: 0.8802\n",
      "Epoch 8/10\n",
      "48000/48000 - 5s - loss: 0.2577 - sparse_categorical_accuracy: 0.9030 - val_loss: 0.3302 - val_sparse_categorical_accuracy: 0.8813\n",
      "Epoch 9/10\n",
      "48000/48000 - 5s - loss: 0.2485 - sparse_categorical_accuracy: 0.9069 - val_loss: 0.3335 - val_sparse_categorical_accuracy: 0.8802\n",
      "Epoch 10/10\n",
      "48000/48000 - 5s - loss: 0.2388 - sparse_categorical_accuracy: 0.9096 - val_loss: 0.3249 - val_sparse_categorical_accuracy: 0.8892\n"
     ]
    }
   ],
   "source": [
    "# train model\n",
    "train_history = model.fit(train_images, \n",
    "        train_labels, \n",
    "        validation_split=0.2,\n",
    "        epochs = train_epochs, \n",
    "        batch_size=batch_size, \n",
    "        verbose = 2)"
   ]
  },
  {
   "cell_type": "code",
   "execution_count": 9,
   "metadata": {},
   "outputs": [
    {
     "name": "stdout",
     "output_type": "stream",
     "text": [
      "Model: \"sequential\"\n",
      "_________________________________________________________________\n",
      "Layer (type)                 Output Shape              Param #   \n",
      "=================================================================\n",
      "flatten (Flatten)            (None, 784)               0         \n",
      "_________________________________________________________________\n",
      "dense (Dense)                (None, 128)               100480    \n",
      "_________________________________________________________________\n",
      "dense_1 (Dense)              (None, 64)                8256      \n",
      "_________________________________________________________________\n",
      "dense_2 (Dense)              (None, 10)                650       \n",
      "=================================================================\n",
      "Total params: 109,386\n",
      "Trainable params: 109,386\n",
      "Non-trainable params: 0\n",
      "_________________________________________________________________\n"
     ]
    }
   ],
   "source": [
    "model.summary()"
   ]
  },
  {
   "cell_type": "code",
   "execution_count": 10,
   "metadata": {},
   "outputs": [
    {
     "data": {
      "text/plain": [
       "{'loss': [0.5151534342368443,\n",
       "  0.3799094401896,\n",
       "  0.342088971833388,\n",
       "  0.3145507379596432,\n",
       "  0.2978512515227,\n",
       "  0.28313466150686145,\n",
       "  0.26911599571133654,\n",
       "  0.25768361218149466,\n",
       "  0.24853903537243605,\n",
       "  0.23877066223944227],\n",
       " 'sparse_categorical_accuracy': [0.8197708,\n",
       "  0.86127084,\n",
       "  0.8736042,\n",
       "  0.8836875,\n",
       "  0.888875,\n",
       "  0.8945,\n",
       "  0.89977086,\n",
       "  0.9029792,\n",
       "  0.9068958,\n",
       "  0.9096042],\n",
       " 'val_loss': [0.41113411062955857,\n",
       "  0.3865105551282565,\n",
       "  0.35265685961643856,\n",
       "  0.33353127841154734,\n",
       "  0.34137291797002156,\n",
       "  0.35228730421264964,\n",
       "  0.3379994744261106,\n",
       "  0.33022125335534414,\n",
       "  0.33348171210289,\n",
       "  0.32493021168311437],\n",
       " 'val_sparse_categorical_accuracy': [0.8563333,\n",
       "  0.86258334,\n",
       "  0.86841667,\n",
       "  0.87725,\n",
       "  0.8778333,\n",
       "  0.8745833,\n",
       "  0.88025,\n",
       "  0.88133335,\n",
       "  0.88025,\n",
       "  0.88916665]}"
      ]
     },
     "execution_count": 10,
     "metadata": {},
     "output_type": "execute_result"
    }
   ],
   "source": [
    "# show the training arguement\n",
    "train_history.history"
   ]
  },
  {
   "cell_type": "code",
   "execution_count": 11,
   "metadata": {},
   "outputs": [],
   "source": [
    "# make the training processing visualized\n",
    "def show_train_history(train_history, train_metric, val_metric):\n",
    "    \n",
    "    plt.plot(train_history.history[train_metric])\n",
    "    plt.plot(train_history.history[val_metric])\n",
    "    \n",
    "    plt.title(\"Train History\")\n",
    "    \n",
    "    plt.ylabel(train_metric)\n",
    "    plt.xlabel('Epoch')\n",
    "    \n",
    "    plt.legend(['train','validation'], loc='upper left')\n",
    "    \n",
    "    plt.show"
   ]
  },
  {
   "cell_type": "code",
   "execution_count": 12,
   "metadata": {},
   "outputs": [
    {
     "data": {
      "image/png": "[encoded data removed]",
      "text/plain": [
       "<Figure size 640x480 with 1 Axes>"
      ]
     },
     "metadata": {},
     "output_type": "display_data"
    }
   ],
   "source": [
    "# display the results\n",
    "show_train_history(train_history, 'loss', 'val_loss')"
   ]
  },
  {
   "cell_type": "code",
   "execution_count": 13,
   "metadata": {},
   "outputs": [
    {
     "name": "stdout",
     "output_type": "stream",
     "text": [
      "10000/10000 - 1s - loss: 0.3589 - sparse_categorical_accuracy: 0.8800\n",
      "0.3589447003185749\n",
      "0.88\n"
     ]
    }
   ],
   "source": [
    "# evaluate the model\n",
    "test_loss, test_acc = model.evaluate(test_images, test_labels,verbose=2)\n",
    "print(test_loss)\n",
    "print(test_acc)"
   ]
  },
  {
   "cell_type": "code",
   "execution_count": 14,
   "metadata": {},
   "outputs": [
    {
     "data": {
      "text/plain": [
       "['loss', 'sparse_categorical_accuracy']"
      ]
     },
     "execution_count": 14,
     "metadata": {},
     "output_type": "execute_result"
    }
   ],
   "source": [
    "model.metrics_names"
   ]
  },
  {
   "cell_type": "code",
   "execution_count": 15,
   "metadata": {},
   "outputs": [
    {
     "name": "stdout",
     "output_type": "stream",
     "text": [
      "[[1.3539581e-08 3.7925606e-06 2.3894622e-06 ... 5.0790798e-02\n",
      "  1.3840513e-07 9.4872290e-01]\n",
      " [1.0727446e-05 1.4180563e-13 9.9908221e-01 ... 4.2929705e-15\n",
      "  4.0884574e-12 1.6724834e-12]\n",
      " [6.7636527e-09 1.0000000e+00 5.1554809e-15 ... 3.0706693e-21\n",
      "  1.0917896e-15 1.9100055e-15]\n",
      " ...\n",
      " [2.1057883e-06 8.3935393e-12 1.6215961e-06 ... 1.3594125e-08\n",
      "  9.9999452e-01 1.0770234e-09]\n",
      " [1.4466939e-07 9.9995780e-01 2.1228030e-10 ... 2.4427858e-14\n",
      "  1.3266793e-10 4.6973453e-10]\n",
      " [2.1137354e-05 3.2440679e-05 1.3226818e-03 ... 7.5122891e-03\n",
      "  1.5643216e-03 9.6685253e-05]]\n"
     ]
    }
   ],
   "source": [
    "# show the predictions\n",
    "# test_pred = tf.convert_to_tensor(model.predict(test_images))\n",
    "test_pred = model.predict(test_images)\n",
    "print(test_pred)"
   ]
  },
  {
   "cell_type": "code",
   "execution_count": 16,
   "metadata": {},
   "outputs": [
    {
     "name": "stdout",
     "output_type": "stream",
     "text": [
      "(10000, 10)\n"
     ]
    }
   ],
   "source": [
    "print(test_pred.shape)\n"
   ]
  },
  {
   "cell_type": "code",
   "execution_count": 17,
   "metadata": {},
   "outputs": [
    {
     "data": {
      "text/plain": [
       "9"
      ]
     },
     "execution_count": 17,
     "metadata": {},
     "output_type": "execute_result"
    }
   ],
   "source": [
    "np.argmax(test_pred[0])"
   ]
  },
  {
   "cell_type": "code",
   "execution_count": 18,
   "metadata": {},
   "outputs": [
    {
     "name": "stdout",
     "output_type": "stream",
     "text": [
      "[9 2 1 ... 8 1 5]\n"
     ]
    }
   ],
   "source": [
    "test_pred = model.predict_classes(test_images)\n",
    "print(test_pred)"
   ]
  }
 ],
 "metadata": {
  "kernelspec": {
   "display_name": "Python 3.7.13 ('TF2.1')",
   "language": "python",
   "name": "python3"
  },
  "language_info": {
   "codemirror_mode": {
    "name": "ipython",
    "version": 3
   },
   "file_extension": ".py",
   "mimetype": "text/x-python",
   "name": "python",
   "nbconvert_exporter": "python",
   "pygments_lexer": "ipython3",
   "version": "3.7.13"
  },
  "orig_nbformat": 4,
  "vscode": {
   "interpreter": {
    "hash": "c1925a549077624469f5fdf01b8570dc3ce59d4e0c73f8a8cba97d8146906dff"
   }
  }
 },
 "nbformat": 4,
 "nbformat_minor": 2
}
